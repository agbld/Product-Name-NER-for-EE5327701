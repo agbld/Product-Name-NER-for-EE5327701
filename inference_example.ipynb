{
 "cells": [
  {
   "cell_type": "code",
   "execution_count": 1,
   "metadata": {},
   "outputs": [
    {
     "name": "stderr",
     "output_type": "stream",
     "text": [
      "c:\\Users\\clw20\\anaconda3\\envs\\cl\\Lib\\site-packages\\tqdm\\auto.py:21: TqdmWarning: IProgress not found. Please update jupyter and ipywidgets. See https://ipywidgets.readthedocs.io/en/stable/user_install.html\n",
      "  from .autonotebook import tqdm as notebook_tqdm\n"
     ]
    }
   ],
   "source": [
    "from src import inference_confidence\n",
    "from model.QA_bert_dropout_ver import Contextual_BERT\n",
    "from transformers import BertTokenizerFast\n",
    "from torch.utils.data import DataLoader\n",
    "from data_process import dataset\n",
    "import torch\n",
    "from src import config"
   ]
  },
  {
   "cell_type": "code",
   "execution_count": 2,
   "metadata": {},
   "outputs": [],
   "source": [
    "def average_non_zero(lst):\n",
    "    \"\"\"\n",
    "    Calculate the average of non-zero values in the list.\n",
    "    Returns 0 if the list contains no non-zero values.\n",
    "    \"\"\"\n",
    "    non_zero_values = list(filter(lambda x: x != 0, lst))\n",
    "    return sum(non_zero_values) / len(non_zero_values) if non_zero_values else 0\n",
    "\n",
    "def load_model(path='\"clw8998/Product-Name-NER-model', device=torch.device('cpu')):\n",
    "    \"\"\"\n",
    "    Load the model and tokenizer from the specified path and move the model to the specified device.\n",
    "    \"\"\"\n",
    "    model = Contextual_BERT.from_pretrained(path).to(device)\n",
    "    tokenizer = BertTokenizerFast.from_pretrained(path)\n",
    "    return model, tokenizer\n",
    "\n",
    "def inference(model, tokenizer, inference_data, all_attribute, batch_size=32):\n",
    "    \"\"\"\n",
    "    Perform inference on the input data using the specified model and tokenizer.\n",
    "    Returns the inference results.\n",
    "    \"\"\"\n",
    "    if not inference_data:\n",
    "        return None\n",
    "\n",
    "    # Preprocess the inference data\n",
    "    processed_data = [{'context': context, 'question': attr, 'answer': []}\n",
    "                      for context in inference_data\n",
    "                      for attr in all_attribute]\n",
    "\n",
    "    # Create dataset and data loader for inference\n",
    "    inference_dataset = dataset.BERTDataset_preprocess(processed_data, [], tokenizer)\n",
    "    inference_loader = DataLoader(\n",
    "        dataset=inference_dataset,\n",
    "        batch_size=batch_size,\n",
    "        shuffle=False,\n",
    "        collate_fn=dataset.BERTDataset_preprocess.collate_fn\n",
    "    )\n",
    "\n",
    "    # Run inference and return the result\n",
    "    return inference_confidence.inference(inference_loader, model, tokenizer, all_attribute)\n",
    "\n",
    "def process_result(result):\n",
    "    \"\"\"\n",
    "    Process the inference result to extract attributes and their corresponding confidence scores.\n",
    "    Returns a dictionary with the processed results.\n",
    "    \"\"\"\n",
    "    result_dict = {}\n",
    "\n",
    "    # Iterate through the result data\n",
    "    for attributes_data, indexes_data, confidences_data in zip(result[0], result[1], result[2]):\n",
    "        title, attributes = attributes_data\n",
    "        _, indexes = indexes_data\n",
    "        _, confidences = confidences_data\n",
    "        att_dict = {}\n",
    "\n",
    "        # Process each attribute\n",
    "        for att_key, attribute_values in attributes.items():\n",
    "            att_confs = []\n",
    "            spans = indexes[att_key]\n",
    "            confidence = confidences[att_key]\n",
    "\n",
    "            # Calculate the average confidence for each span\n",
    "            for span in spans:\n",
    "                att_confs.append(round(average_non_zero(confidence[span[0]:span[1] + 1]), 4))\n",
    "\n",
    "            # Match attribute values with their corresponding confidence scores\n",
    "            att_result = [[attribute, att_confs[j]] for j, attribute in enumerate(attribute_values)]\n",
    "            att_dict[att_key] = att_result\n",
    "\n",
    "        result_dict[title] = att_dict\n",
    "\n",
    "    return result_dict\n"
   ]
  },
  {
   "cell_type": "code",
   "execution_count": 3,
   "metadata": {},
   "outputs": [
    {
     "name": "stderr",
     "output_type": "stream",
     "text": [
      "100%|██████████| 1/1 [00:03<00:00,  3.44s/it]\n"
     ]
    }
   ],
   "source": [
    "# put attribute here!\n",
    "all_attribute = ['品牌', '名稱', '產品', '產品序號', '顏色', '材質', '對象與族群', '適用物體、事件與場所', \n",
    "                     '特殊主題', '形狀', '圖案', '尺寸', '重量', '容量', '包裝組合', '功能與規格']\n",
    "\n",
    "# put infernce data here!\n",
    "inference_data = ['【A‵bella浪漫晶飾】方形密碼-深海藍水晶手鍊', '【Jabra】Elite 4 ANC真無線降噪藍牙耳機 (藍牙5.2雙設備連接)']\n",
    "\n",
    "# set device\n",
    "config.string_device =  'cuda' if torch.cuda.is_available() else 'cpu'\n",
    "config.device = torch.device(config.string_device)\n",
    "\n",
    "# load model\n",
    "model, tokenizer = load_model(\"clw8998/Product-Name-NER-model\", device=config.device)\n",
    "\n",
    "# inference\n",
    "result = inference(model, tokenizer, inference_data, all_attribute, batch_size=32)\n",
    "\n",
    "# process result\n",
    "result_dict = process_result(result)"
   ]
  },
  {
   "cell_type": "code",
   "execution_count": 4,
   "metadata": {},
   "outputs": [
    {
     "name": "stdout",
     "output_type": "stream",
     "text": [
      "【A‵bella浪漫晶飾】方形密碼-深海藍水晶手鍊\n"
     ]
    },
    {
     "data": {
      "text/plain": [
       "{'品牌': [['a‵bella', 0.9987], ['浪漫晶飾', 0.9861]],\n",
       " '名稱': [['密碼', 0.6318]],\n",
       " '產品': [['手鍊', 0.9991]],\n",
       " '產品序號': [],\n",
       " '顏色': [['深海藍', 0.9486]],\n",
       " '材質': [['水晶', 0.9143]],\n",
       " '對象與族群': [],\n",
       " '適用物體、事件與場所': [['手', 0.9968]],\n",
       " '特殊主題': [],\n",
       " '形狀': [['方形', 0.9974]],\n",
       " '圖案': [],\n",
       " '尺寸': [],\n",
       " '重量': [],\n",
       " '容量': [],\n",
       " '包裝組合': [],\n",
       " '功能與規格': []}"
      ]
     },
     "execution_count": 4,
     "metadata": {},
     "output_type": "execute_result"
    }
   ],
   "source": [
    "# use inference data to get result (Should be lower case)\n",
    "print(inference_data[0])\n",
    "result_dict[inference_data[0].lower()]"
   ]
  },
  {
   "cell_type": "code",
   "execution_count": 5,
   "metadata": {},
   "outputs": [
    {
     "name": "stdout",
     "output_type": "stream",
     "text": [
      "【Jabra】Elite 4 ANC真無線降噪藍牙耳機 (藍牙5.2雙設備連接)\n"
     ]
    },
    {
     "data": {
      "text/plain": [
       "{'品牌': [['jabra', 0.9998]],\n",
       " '名稱': [['elite 4 anc', 0.9934]],\n",
       " '產品': [['藍牙耳機', 0.9209]],\n",
       " '產品序號': [],\n",
       " '顏色': [],\n",
       " '材質': [],\n",
       " '對象與族群': [],\n",
       " '適用物體、事件與場所': [['耳', 0.994]],\n",
       " '特殊主題': [],\n",
       " '形狀': [],\n",
       " '圖案': [],\n",
       " '尺寸': [],\n",
       " '重量': [],\n",
       " '容量': [],\n",
       " '包裝組合': [],\n",
       " '功能與規格': [['真無線降噪', 0.96],\n",
       "  ['藍牙', 0.9962],\n",
       "  ['藍牙', 0.9961],\n",
       "  ['5.2雙設備連接', 0.9081]]}"
      ]
     },
     "execution_count": 5,
     "metadata": {},
     "output_type": "execute_result"
    }
   ],
   "source": [
    "# use inference data to get result (Should be lower case)\n",
    "print(inference_data[1])\n",
    "result_dict[inference_data[1].lower()]"
   ]
  },
  {
   "cell_type": "code",
   "execution_count": 6,
   "metadata": {},
   "outputs": [
    {
     "name": "stdout",
     "output_type": "stream",
     "text": [
      "【A‵bella浪漫晶飾】方形密碼-深海藍水晶手鍊\n"
     ]
    },
    {
     "data": {
      "text/plain": [
       "{'品牌': [['a‵bella', 0.9987], ['浪漫晶飾', 0.9861]],\n",
       " '名稱': [['密碼', 0.6318]],\n",
       " '產品': [['手鍊', 0.9991]],\n",
       " '產品序號': [],\n",
       " '顏色': [['深海藍', 0.9486]],\n",
       " '材質': [['水晶', 0.9143]],\n",
       " '對象與族群': [],\n",
       " '適用物體、事件與場所': [['手', 0.9968]],\n",
       " '特殊主題': [],\n",
       " '形狀': [['方形', 0.9974]],\n",
       " '圖案': [],\n",
       " '尺寸': [],\n",
       " '重量': [],\n",
       " '容量': [],\n",
       " '包裝組合': [],\n",
       " '功能與規格': []}"
      ]
     },
     "execution_count": 6,
     "metadata": {},
     "output_type": "execute_result"
    }
   ],
   "source": [
    "print('【A‵bella浪漫晶飾】方形密碼-深海藍水晶手鍊')\n",
    "result_dict['【A‵bella浪漫晶飾】方形密碼-深海藍水晶手鍊'.lower()]"
   ]
  },
  {
   "cell_type": "code",
   "execution_count": 7,
   "metadata": {},
   "outputs": [
    {
     "name": "stdout",
     "output_type": "stream",
     "text": [
      "【A‵bella浪漫晶飾】方形密碼-深海藍水晶手鍊\n"
     ]
    },
    {
     "data": {
      "text/plain": [
       "[['a‵bella', 0.9987], ['浪漫晶飾', 0.9861]]"
      ]
     },
     "execution_count": 7,
     "metadata": {},
     "output_type": "execute_result"
    }
   ],
   "source": [
    "print('【A‵bella浪漫晶飾】方形密碼-深海藍水晶手鍊')\n",
    "result_dict['【A‵bella浪漫晶飾】方形密碼-深海藍水晶手鍊'.lower()]['品牌']"
   ]
  }
 ],
 "metadata": {
  "kernelspec": {
   "display_name": "cl",
   "language": "python",
   "name": "python3"
  },
  "language_info": {
   "codemirror_mode": {
    "name": "ipython",
    "version": 3
   },
   "file_extension": ".py",
   "mimetype": "text/x-python",
   "name": "python",
   "nbconvert_exporter": "python",
   "pygments_lexer": "ipython3",
   "version": "3.11.9"
  }
 },
 "nbformat": 4,
 "nbformat_minor": 2
}
