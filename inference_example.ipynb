{
 "cells": [
  {
   "cell_type": "code",
   "execution_count": 1,
   "metadata": {},
   "outputs": [
    {
     "name": "stderr",
     "output_type": "stream",
     "text": [
      "c:\\Users\\clw20\\anaconda3\\envs\\cl\\Lib\\site-packages\\tqdm\\auto.py:21: TqdmWarning: IProgress not found. Please update jupyter and ipywidgets. See https://ipywidgets.readthedocs.io/en/stable/user_install.html\n",
      "  from .autonotebook import tqdm as notebook_tqdm\n"
     ]
    }
   ],
   "source": [
    "import torch\n",
    "from src import config, inference_api"
   ]
  },
  {
   "cell_type": "code",
   "execution_count": 2,
   "metadata": {},
   "outputs": [
    {
     "name": "stderr",
     "output_type": "stream",
     "text": [
      "100%|██████████| 1/1 [00:02<00:00,  2.45s/it]\n"
     ]
    }
   ],
   "source": [
    "# put attribute here!\n",
    "all_attribute = ['品牌', '名稱', '產品', '產品序號', '顏色', '材質', '對象與族群', '適用物體、事件與場所', \n",
    "                     '特殊主題', '形狀', '圖案', '尺寸', '重量', '容量', '包裝組合', '功能與規格']\n",
    "\n",
    "# put infernce data here!\n",
    "inference_data = ['【A‵bella浪漫晶飾】方形密碼-深海藍水晶手鍊', '【Jabra】Elite 4 ANC真無線降噪藍牙耳機 (藍牙5.2雙設備連接)']\n",
    "\n",
    "# set device\n",
    "config.string_device =  'cuda' if torch.cuda.is_available() else 'cpu'\n",
    "config.device = torch.device(config.string_device)\n",
    "\n",
    "# load model\n",
    "model, tokenizer = inference_api.load_model(\"clw8998/Product-Name-NER-model\", device=config.device)\n",
    "\n",
    "ner_tags = inference_api.get_ner_tags(model, tokenizer, inference_data, all_attribute)"
   ]
  },
  {
   "cell_type": "code",
   "execution_count": 7,
   "metadata": {},
   "outputs": [
    {
     "data": {
      "text/plain": [
       "{'【a‵bella浪漫晶飾】方形密碼-深海藍水晶手鍊': {'品牌': [['a‵bella', 0.9987], ['浪漫晶飾', 0.9861]],\n",
       "  '名稱': [['密碼', 0.6318]],\n",
       "  '產品': [['手鍊', 0.9991]],\n",
       "  '產品序號': [],\n",
       "  '顏色': [['深海藍', 0.9486]],\n",
       "  '材質': [['水晶', 0.9143]],\n",
       "  '對象與族群': [],\n",
       "  '適用物體、事件與場所': [['手', 0.9968]],\n",
       "  '特殊主題': [],\n",
       "  '形狀': [['方形', 0.9974]],\n",
       "  '圖案': [],\n",
       "  '尺寸': [],\n",
       "  '重量': [],\n",
       "  '容量': [],\n",
       "  '包裝組合': [],\n",
       "  '功能與規格': []},\n",
       " '【jabra】elite 4 anc真無線降噪藍牙耳機 (藍牙5.2雙設備連接)': {'品牌': [['jabra', 0.9998]],\n",
       "  '名稱': [['elite 4 anc', 0.9934]],\n",
       "  '產品': [['藍牙耳機', 0.9209]],\n",
       "  '產品序號': [],\n",
       "  '顏色': [],\n",
       "  '材質': [],\n",
       "  '對象與族群': [],\n",
       "  '適用物體、事件與場所': [['耳', 0.994]],\n",
       "  '特殊主題': [],\n",
       "  '形狀': [],\n",
       "  '圖案': [],\n",
       "  '尺寸': [],\n",
       "  '重量': [],\n",
       "  '容量': [],\n",
       "  '包裝組合': [],\n",
       "  '功能與規格': [['真無線降噪', 0.96],\n",
       "   ['藍牙', 0.9962],\n",
       "   ['藍牙', 0.9961],\n",
       "   ['5.2雙設備連接', 0.9081]]}}"
      ]
     },
     "execution_count": 7,
     "metadata": {},
     "output_type": "execute_result"
    }
   ],
   "source": [
    "ner_tags"
   ]
  },
  {
   "cell_type": "code",
   "execution_count": 3,
   "metadata": {},
   "outputs": [
    {
     "name": "stdout",
     "output_type": "stream",
     "text": [
      "【A‵bella浪漫晶飾】方形密碼-深海藍水晶手鍊\n"
     ]
    },
    {
     "data": {
      "text/plain": [
       "{'品牌': [['a‵bella', 0.9987], ['浪漫晶飾', 0.9861]],\n",
       " '名稱': [['密碼', 0.6318]],\n",
       " '產品': [['手鍊', 0.9991]],\n",
       " '產品序號': [],\n",
       " '顏色': [['深海藍', 0.9486]],\n",
       " '材質': [['水晶', 0.9143]],\n",
       " '對象與族群': [],\n",
       " '適用物體、事件與場所': [['手', 0.9968]],\n",
       " '特殊主題': [],\n",
       " '形狀': [['方形', 0.9974]],\n",
       " '圖案': [],\n",
       " '尺寸': [],\n",
       " '重量': [],\n",
       " '容量': [],\n",
       " '包裝組合': [],\n",
       " '功能與規格': []}"
      ]
     },
     "execution_count": 3,
     "metadata": {},
     "output_type": "execute_result"
    }
   ],
   "source": [
    "# use inference data to get result (Should be lower case)\n",
    "print(inference_data[0])\n",
    "ner_tags[inference_data[0].lower()]"
   ]
  },
  {
   "cell_type": "code",
   "execution_count": 4,
   "metadata": {},
   "outputs": [
    {
     "name": "stdout",
     "output_type": "stream",
     "text": [
      "【Jabra】Elite 4 ANC真無線降噪藍牙耳機 (藍牙5.2雙設備連接)\n"
     ]
    },
    {
     "data": {
      "text/plain": [
       "{'品牌': [['jabra', 0.9998]],\n",
       " '名稱': [['elite 4 anc', 0.9934]],\n",
       " '產品': [['藍牙耳機', 0.9209]],\n",
       " '產品序號': [],\n",
       " '顏色': [],\n",
       " '材質': [],\n",
       " '對象與族群': [],\n",
       " '適用物體、事件與場所': [['耳', 0.994]],\n",
       " '特殊主題': [],\n",
       " '形狀': [],\n",
       " '圖案': [],\n",
       " '尺寸': [],\n",
       " '重量': [],\n",
       " '容量': [],\n",
       " '包裝組合': [],\n",
       " '功能與規格': [['真無線降噪', 0.96],\n",
       "  ['藍牙', 0.9962],\n",
       "  ['藍牙', 0.9961],\n",
       "  ['5.2雙設備連接', 0.9081]]}"
      ]
     },
     "execution_count": 4,
     "metadata": {},
     "output_type": "execute_result"
    }
   ],
   "source": [
    "# use inference data to get result (Should be lower case)\n",
    "print(inference_data[1])\n",
    "ner_tags[inference_data[1].lower()]"
   ]
  },
  {
   "cell_type": "code",
   "execution_count": 5,
   "metadata": {},
   "outputs": [
    {
     "name": "stdout",
     "output_type": "stream",
     "text": [
      "【A‵bella浪漫晶飾】方形密碼-深海藍水晶手鍊\n"
     ]
    },
    {
     "data": {
      "text/plain": [
       "{'品牌': [['a‵bella', 0.9987], ['浪漫晶飾', 0.9861]],\n",
       " '名稱': [['密碼', 0.6318]],\n",
       " '產品': [['手鍊', 0.9991]],\n",
       " '產品序號': [],\n",
       " '顏色': [['深海藍', 0.9486]],\n",
       " '材質': [['水晶', 0.9143]],\n",
       " '對象與族群': [],\n",
       " '適用物體、事件與場所': [['手', 0.9968]],\n",
       " '特殊主題': [],\n",
       " '形狀': [['方形', 0.9974]],\n",
       " '圖案': [],\n",
       " '尺寸': [],\n",
       " '重量': [],\n",
       " '容量': [],\n",
       " '包裝組合': [],\n",
       " '功能與規格': []}"
      ]
     },
     "execution_count": 5,
     "metadata": {},
     "output_type": "execute_result"
    }
   ],
   "source": [
    "print('【A‵bella浪漫晶飾】方形密碼-深海藍水晶手鍊')\n",
    "ner_tags['【A‵bella浪漫晶飾】方形密碼-深海藍水晶手鍊'.lower()]"
   ]
  },
  {
   "cell_type": "code",
   "execution_count": 6,
   "metadata": {},
   "outputs": [
    {
     "name": "stdout",
     "output_type": "stream",
     "text": [
      "【A‵bella浪漫晶飾】方形密碼-深海藍水晶手鍊\n"
     ]
    },
    {
     "data": {
      "text/plain": [
       "[['a‵bella', 0.9987], ['浪漫晶飾', 0.9861]]"
      ]
     },
     "execution_count": 6,
     "metadata": {},
     "output_type": "execute_result"
    }
   ],
   "source": [
    "print('【A‵bella浪漫晶飾】方形密碼-深海藍水晶手鍊')\n",
    "ner_tags['【A‵bella浪漫晶飾】方形密碼-深海藍水晶手鍊'.lower()]['品牌']"
   ]
  }
 ],
 "metadata": {
  "kernelspec": {
   "display_name": "cl",
   "language": "python",
   "name": "python3"
  },
  "language_info": {
   "codemirror_mode": {
    "name": "ipython",
    "version": 3
   },
   "file_extension": ".py",
   "mimetype": "text/x-python",
   "name": "python",
   "nbconvert_exporter": "python",
   "pygments_lexer": "ipython3",
   "version": "3.11.9"
  }
 },
 "nbformat": 4,
 "nbformat_minor": 2
}
